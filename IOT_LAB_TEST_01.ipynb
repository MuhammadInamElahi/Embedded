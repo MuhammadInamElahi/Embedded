{
  "nbformat": 4,
  "nbformat_minor": 0,
  "metadata": {
    "colab": {
      "name": "IOT_LAB_TEST_01.ipynb",
      "provenance": [],
      "collapsed_sections": [],
      "authorship_tag": "ABX9TyOplb676ahlfycGKMfVud++",
      "include_colab_link": true
    },
    "kernelspec": {
      "name": "python3",
      "display_name": "Python 3"
    },
    "language_info": {
      "name": "python"
    }
  },
  "cells": [
    {
      "cell_type": "markdown",
      "metadata": {
        "id": "view-in-github",
        "colab_type": "text"
      },
      "source": [
        "<a href=\"https://colab.research.google.com/github/MuhammadInamElahi/Embedded/blob/main/IOT_LAB_TEST_01.ipynb\" target=\"_parent\"><img src=\"https://colab.research.google.com/assets/colab-badge.svg\" alt=\"Open In Colab\"/></a>"
      ]
    },
    {
      "cell_type": "code",
      "execution_count": 2,
      "metadata": {
        "colab": {
          "base_uri": "https://localhost:8080/"
        },
        "id": "zw-Ozs_3b1gS",
        "outputId": "c258644a-f181-4c12-cc2b-0723874ad134"
      },
      "outputs": [
        {
          "output_type": "stream",
          "name": "stdout",
          "text": [
            "Enter Total Numbers =  5\n",
            "Enter Number = 12\n",
            "Enter Number = 13\n",
            "Enter Number = 19\n",
            "Enter Number = 65\n",
            "Enter Number = 53\n",
            "Original List = [12, 13, 19, 65, 53]\n",
            "Odd Number =  13\n",
            "Odd Number =  19\n",
            "Odd Number =  65\n",
            "Odd Number =  53\n"
          ]
        }
      ],
      "source": [
        "# QUESTION 01\n",
        "a = []\n",
        "b = int(input(\"Enter Total Numbers =  \"))\n",
        "for i in range(b):\n",
        "    c = int(input(\"Enter Number = \"))\n",
        "    a.append(c)\n",
        "print(\"Original List =\",a)\n",
        "for j in a:\n",
        "  if j %2 !=0:\n",
        "    print(\"Odd Number = \",j)"
      ]
    },
    {
      "cell_type": "code",
      "source": [
        "# QUESTION 02\n",
        "a = []\n",
        "b = int(input(\"Enter Total Numbers =  \"))\n",
        "for i in range(b):\n",
        "    c = int(input(\"Enter Number = \"))\n",
        "    a.append(c)\n",
        "print(\"Sum Of List Element =\",sum(a))\n"
      ],
      "metadata": {
        "colab": {
          "base_uri": "https://localhost:8080/"
        },
        "id": "XPB1pmsXi_LJ",
        "outputId": "18cd58f7-f956-4dcb-cdfe-6dc929ff87ec"
      },
      "execution_count": null,
      "outputs": [
        {
          "output_type": "stream",
          "name": "stdout",
          "text": [
            "Enter Total Numbers =  4\n",
            "Enter Number = 2\n",
            "Enter Number = 5\n",
            "Enter Number = 8\n",
            "Enter Number = 5\n",
            "Sum Of List Element = 20\n"
          ]
        }
      ]
    },
    {
      "cell_type": "code",
      "source": [
        "# QUESTION 03\n",
        "a = []\n",
        "b = int(input(\"Enter Total Numbers =  \"))\n",
        "for i in range(b):\n",
        "    c = int(input(\"Enter Number = \"))\n",
        "    a.append(c)\n",
        "print(\"Origional List =\",a)\n",
        "print(\"Reversed List 01 =\",a[::-1])\n",
        "a.reverse()\n",
        "a\n",
        "print(\"Reversed List 02 =\",a)"
      ],
      "metadata": {
        "id": "A4OxYgr_kISZ",
        "colab": {
          "base_uri": "https://localhost:8080/"
        },
        "outputId": "5a3b3b4d-25f1-400b-e86c-974bebfbd9f4"
      },
      "execution_count": null,
      "outputs": [
        {
          "output_type": "stream",
          "name": "stdout",
          "text": [
            "Enter Total Numbers =  4\n",
            "Enter Number = 22\n",
            "Enter Number = 31\n",
            "Enter Number = 45\n",
            "Enter Number = 88\n",
            "Origional List = [22, 31, 45, 88]\n",
            "Reversed List 01 = [88, 45, 31, 22]\n",
            "Reversed List 02 = [88, 45, 31, 22]\n"
          ]
        }
      ]
    },
    {
      "cell_type": "code",
      "source": [
        "# QUESTION 04\n",
        "a = [99, 13, 1, 13, 55]\n",
        "a.sort()\n",
        "print(\"Top Most Two Numbers =\",a[:-3:-1])"
      ],
      "metadata": {
        "colab": {
          "base_uri": "https://localhost:8080/"
        },
        "id": "_mHNlXdgr4w0",
        "outputId": "27e2d49a-2212-47df-fcf7-01efd6dd7dcb"
      },
      "execution_count": 22,
      "outputs": [
        {
          "output_type": "stream",
          "name": "stdout",
          "text": [
            "Top Most Two Numbers = [99, 55]\n"
          ]
        }
      ]
    },
    {
      "cell_type": "code",
      "source": [
        "# QUESTION 05\n",
        "a = [99, 13, 1, 13, 55]\n",
        "a.sort()\n",
        "print(\"Second Highest Number =\",a[-2])"
      ],
      "metadata": {
        "colab": {
          "base_uri": "https://localhost:8080/"
        },
        "id": "wCCEqlyE6mc4",
        "outputId": "788811a6-ae14-4389-819d-54872043953e"
      },
      "execution_count": 25,
      "outputs": [
        {
          "output_type": "stream",
          "name": "stdout",
          "text": [
            "Second Highest Number = 55\n"
          ]
        }
      ]
    },
    {
      "cell_type": "code",
      "source": [
        "# QUESTION 06\n",
        "a = []\n",
        "b = int(input(\"Enter Total Numbers =  \"))\n",
        "for i in range(b):\n",
        "    c = int(input(\"Enter Number = \"))\n",
        "    a.append(c)\n",
        "print(\"Original List =\",a) \n",
        "a.sort(reverse=True)\n",
        "print(\"Sorted List =\",a)"
      ],
      "metadata": {
        "colab": {
          "base_uri": "https://localhost:8080/"
        },
        "id": "9H0xnilA1Q36",
        "outputId": "7393f4c0-ab6e-47e1-bbd6-8e45e1dbe988"
      },
      "execution_count": 80,
      "outputs": [
        {
          "output_type": "stream",
          "name": "stdout",
          "text": [
            "Enter Total Numbers =  4\n",
            "Enter Number = 99\n",
            "Enter Number = 78\n",
            "Enter Number = 65\n",
            "Enter Number = 101\n",
            "Original List = [99, 78, 65, 101]\n",
            "Sorted List = [101, 99, 78, 65]\n"
          ]
        }
      ]
    },
    {
      "cell_type": "code",
      "source": [
        "# QUESTION 07\n",
        "a = input(\"Enter String = \")\n",
        "b=\"\"\n",
        "for i in a:\n",
        "    if i not in b:\n",
        "        b = b + i\n",
        "print(\"After Removed =\",b)"
      ],
      "metadata": {
        "colab": {
          "base_uri": "https://localhost:8080/"
        },
        "id": "X0IyjsvfKOn8",
        "outputId": "a1c76bf3-1381-406f-c611-1cdb1e4f7cd0"
      },
      "execution_count": 54,
      "outputs": [
        {
          "output_type": "stream",
          "name": "stdout",
          "text": [
            "Enter String = Inaam\n",
            "After Removed = Inam\n"
          ]
        }
      ]
    },
    {
      "cell_type": "code",
      "source": [
        "# QUESTION 08\n",
        "ch = input(\"Enter Character = \")\n",
        "if len(ch)==1:\n",
        "  if(ch == 'a' or ch == 'e' or ch == 'i' or ch == 'o' or ch == 'u' or ch == 'A' or ch == 'E' or ch == 'I' or ch == 'O' or ch == 'U'):\n",
        "    print(\"Given Character is VOWEL i.e:\",ch)\n",
        "  else:\n",
        "      print(\"Given Character is CONSONENET i.e:\",ch)\n",
        "else:\n",
        "  print(\"Enter Only Single Character !!!\")"
      ],
      "metadata": {
        "colab": {
          "base_uri": "https://localhost:8080/"
        },
        "id": "8hdBLgl2Nwsg",
        "outputId": "7abf16e0-8562-4ec2-b162-73c0b59a6f12"
      },
      "execution_count": 75,
      "outputs": [
        {
          "output_type": "stream",
          "name": "stdout",
          "text": [
            "Enter Character = I\n",
            "Given Character is VOWEL i.e: I\n"
          ]
        }
      ]
    },
    {
      "cell_type": "code",
      "source": [
        "# QUESTION 09\n",
        "num=(int(input(\"Factorial Length = \")))\n",
        "factorial = 1\n",
        "if num < 0:\n",
        "   print(\"Sorry !!! Enter Positive Numbers Only\")\n",
        "elif num == 0:\n",
        "   print(\"Factorial of 0 = 1\")\n",
        "else:\n",
        "   for i in range(1,num + 1):\n",
        "       factorial = factorial*i\n",
        "   print(\"Factorial of\",num,\"=\",factorial)"
      ],
      "metadata": {
        "colab": {
          "base_uri": "https://localhost:8080/"
        },
        "id": "yyHB33jLx1rm",
        "outputId": "4868b0bd-daad-4fff-940c-0f82ef964961"
      },
      "execution_count": 77,
      "outputs": [
        {
          "output_type": "stream",
          "name": "stdout",
          "text": [
            "Factorial Length = 4\n",
            "Factorial of 4 = 24\n"
          ]
        }
      ]
    },
    {
      "cell_type": "code",
      "source": [
        "# QUESTION 10\n",
        "a = ['Inam', \"Adeel\", \"Shahzaib\"]\n",
        "b = [18, 20 ,24]\n",
        "print(a+b)"
      ],
      "metadata": {
        "colab": {
          "base_uri": "https://localhost:8080/"
        },
        "id": "FpCNnAi8wz93",
        "outputId": "e5b0b98d-a227-41a1-c6e1-49ffc14bebed"
      },
      "execution_count": null,
      "outputs": [
        {
          "output_type": "stream",
          "name": "stdout",
          "text": [
            "['Inam', 'Adeel', 'Shahzaib', 18, 20, 24]\n"
          ]
        }
      ]
    }
  ]
}