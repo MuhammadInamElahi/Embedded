{
  "nbformat": 4,
  "nbformat_minor": 0,
  "metadata": {
    "colab": {
      "name": "IOT_LAB_AST_01.ipynb",
      "provenance": [],
      "collapsed_sections": []
    },
    "kernelspec": {
      "name": "python3",
      "display_name": "Python 3"
    },
    "language_info": {
      "name": "python"
    }
  },
  "cells": [
    {
      "cell_type": "code",
      "execution_count": null,
      "metadata": {
        "colab": {
          "base_uri": "https://localhost:8080/"
        },
        "id": "zmS1ba2YVEey",
        "outputId": "139f46ed-f8d3-45d1-9823-9adc110d751f"
      },
      "outputs": [
        {
          "output_type": "stream",
          "name": "stdout",
          "text": [
            "Please Enter any Number: 23\n",
            "Reverse of entered number is 32\n"
          ]
        }
      ],
      "source": [
        "# QUESTION 01\n",
        "\n",
        "Number = int(input(\"Please Enter any Number: \"))\n",
        "Reverse = 0.\n",
        "while(Number > 0):\n",
        "  Reminder = Number %10\n",
        "  Reverse = (Reverse *10) + Reminder\n",
        "  Number = Number //10\n",
        "print(\"Reverse of entered number is\" , int(Reverse))"
      ]
    },
    {
      "cell_type": "code",
      "source": [
        "# QUESTION 02\n",
        "\n",
        "a= list()\n",
        "b = input(\"Enter any Number: \")\n",
        "for i in b:\n",
        "  a.append(i)\n",
        "\n",
        "c = list()\n",
        "for j in range(len(a)):\n",
        "  c.append(int(a[j]))\n",
        "\n",
        "d = list()\n",
        "for k in range(len(c)):\n",
        "  d.append(c[k]**3)\n",
        "\n",
        "if(sum(d) == int(b)):\n",
        "  print(b, \"is an Armstrong Number\")\n",
        "else:\n",
        "  print(b, \"is not an Armstrong Number\")"
      ],
      "metadata": {
        "colab": {
          "base_uri": "https://localhost:8080/"
        },
        "id": "buaEd0k8VKyU",
        "outputId": "4791e9e7-b5e6-4991-c716-bb3912aa65a3"
      },
      "execution_count": null,
      "outputs": [
        {
          "output_type": "stream",
          "name": "stdout",
          "text": [
            "Enter any Number: 24\n",
            "24 is not an Armstrong Number\n"
          ]
        }
      ]
    },
    {
      "cell_type": "code",
      "source": [
        "# QUESTION 03\n",
        "\n",
        "number = int(input(\"please give a number: \"))\n",
        "for i in range(2, number//2):\n",
        "    if number %i == 0:\n",
        "        temp=1\n",
        "        break\n",
        "        \n",
        "if temp == 1:\n",
        "    print(number ,\"is not prime number\")\n",
        "else:\n",
        "    print(number, \"is prime number\")"
      ],
      "metadata": {
        "colab": {
          "base_uri": "https://localhost:8080/"
        },
        "id": "FhT-JNoYVt77",
        "outputId": "bfc67e94-3a18-45f9-c62c-7f425853e9b3"
      },
      "execution_count": null,
      "outputs": [
        {
          "output_type": "stream",
          "name": "stdout",
          "text": [
            "please give a number: 24\n",
            "24 is not prime number\n"
          ]
        }
      ]
    },
    {
      "cell_type": "code",
      "source": [
        "# QUESTION 04\n",
        "\n",
        "first,second=0,1\n",
        "n = int(input(\"please give a number for fibonacci series : \"))\n",
        "print(\"fibonacci series are : \")\n",
        "for i in range(0,n):\n",
        "    if i<=1:\n",
        "        result=i\n",
        "    else:\n",
        "      result = first + second;\n",
        "      first = second;\n",
        "      second = result;\n",
        "    print(result)"
      ],
      "metadata": {
        "colab": {
          "base_uri": "https://localhost:8080/"
        },
        "id": "NQn7f0t6V5BA",
        "outputId": "007e52b7-614a-4bef-8b2c-8540e7d1a6de"
      },
      "execution_count": null,
      "outputs": [
        {
          "output_type": "stream",
          "name": "stdout",
          "text": [
            "please give a number for fibonacci series : 24\n",
            "fibonacci series are : \n",
            "0\n",
            "1\n",
            "1\n",
            "2\n",
            "3\n",
            "5\n",
            "8\n",
            "13\n",
            "21\n",
            "34\n",
            "55\n",
            "89\n",
            "144\n",
            "233\n",
            "377\n",
            "610\n",
            "987\n",
            "1597\n",
            "2584\n",
            "4181\n",
            "6765\n",
            "10946\n",
            "17711\n",
            "28657\n"
          ]
        }
      ]
    },
    {
      "cell_type": "code",
      "source": [
        "# QUESTION 05\n",
        "\n",
        "number = int(input(\"Enter a number: \"))\n",
        "reverse,temp = 0, number\n",
        "while temp!= 0:\n",
        "  reverse = reverse*10 + temp%10\n",
        "  temp=temp//10\n",
        "\n",
        "if reverse==number:\n",
        "    print(\"number is palindrom\")\n",
        "else:\n",
        "    print(\"number is not palindrom\")"
      ],
      "metadata": {
        "colab": {
          "base_uri": "https://localhost:8080/"
        },
        "id": "F_T-hIOGWCYI",
        "outputId": "21c2da0c-cefd-4079-9255-99e1fef70605"
      },
      "execution_count": null,
      "outputs": [
        {
          "output_type": "stream",
          "name": "stdout",
          "text": [
            "Enter a number: 24\n",
            "number is not palindrom\n"
          ]
        }
      ]
    },
    {
      "cell_type": "code",
      "source": [
        "# QUESTION 06\n",
        "\n",
        "fn = int(input(\"Enter any number: \"))\n",
        "mn = int(input(\"Enter any number: \"))\n",
        "ln = int(input(\"Enter any number: \"))\n",
        "\n",
        "if fn > mn and fn > ln:\n",
        "  print(fn, \"is greater among\", mn ,\"and\",ln) \n",
        "\n",
        "if mn > fn and mn > ln:\n",
        "  print(mn, \"is greater among\", fn ,\"and\",ln) \n",
        "  \n",
        "if ln > mn and ln > fn:\n",
        "  print(ln, \"is greater among\", fn ,\"and\",mn)"
      ],
      "metadata": {
        "colab": {
          "base_uri": "https://localhost:8080/"
        },
        "id": "HtpQPxjAWKSY",
        "outputId": "4734c3a7-a99e-42ee-f07b-a9bbc3265f68"
      },
      "execution_count": null,
      "outputs": [
        {
          "output_type": "stream",
          "name": "stdout",
          "text": [
            "Enter any number: 2\n",
            "Enter any number: 4\n",
            "Enter any number: 24\n",
            "24 is greater among 2 and 4\n"
          ]
        }
      ]
    },
    {
      "cell_type": "code",
      "source": [
        "# QUESTION 07\n",
        "\n",
        "number = input(\"Enter any number:\")\n",
        "\n",
        "p = set(number)\n",
        "\n",
        "s = {'1','0'}\n",
        "\n",
        "if s == p or p == {'0'} or p == {'1'}:\n",
        "  print(\"Your given number is binary.\")\n",
        "\n",
        "else:\n",
        "  print(\"Your given number is not binary.\")"
      ],
      "metadata": {
        "colab": {
          "base_uri": "https://localhost:8080/"
        },
        "id": "6kYcsqf9WT1P",
        "outputId": "e52e5d99-1f65-4f7c-daab-c4c5f8f532cb"
      },
      "execution_count": null,
      "outputs": [
        {
          "output_type": "stream",
          "name": "stdout",
          "text": [
            "Enter any number:24\n",
            "Your given number is not binary.\n"
          ]
        }
      ]
    },
    {
      "cell_type": "code",
      "source": [
        "# QUESTION 08\n",
        "\n",
        "numbers = int(input(\"Enter quantity of numbers: \"))\n",
        "lst = list()\n",
        "\n",
        "\n",
        "for i in range(0, numbers):\n",
        "  elements = int(input())\n",
        "  lst.append(elements)\n",
        "print(\"\\nThe Average of your given numbers are: \",sum(lst))"
      ],
      "metadata": {
        "colab": {
          "base_uri": "https://localhost:8080/"
        },
        "id": "k_XVpMOYWbtQ",
        "outputId": "b75b55c8-37b5-4a76-b895-051172d0fe92"
      },
      "execution_count": null,
      "outputs": [
        {
          "output_type": "stream",
          "name": "stdout",
          "text": [
            "Enter quantity of numbers: 3\n",
            "24\n",
            "22\n",
            "20\n",
            "\n",
            "The Average of your given numbers are:  66\n"
          ]
        }
      ]
    },
    {
      "cell_type": "code",
      "source": [
        "# QUESTION 09\n",
        "\n",
        "x = input(\"Enter value of x: \")\n",
        "y = input(\"Enter value of y: \")\n",
        "\n",
        "print(\"\\nBefore Swapping\")\n",
        "print(\"Value of x:\", x , \"and\" , \"y:\", y)\n",
        "\n",
        "x , y = y , x\n",
        "\n",
        "print(\"\\nAfter Swapping\")\n",
        "print(\"Value of x:\", x , \"and\" , \"y:\", y)"
      ],
      "metadata": {
        "colab": {
          "base_uri": "https://localhost:8080/"
        },
        "id": "NaiGCm65WjmL",
        "outputId": "d26b5907-b4a0-4fa9-f762-bfc20f6dc995"
      },
      "execution_count": null,
      "outputs": [
        {
          "output_type": "stream",
          "name": "stdout",
          "text": [
            "Enter value of x: 2\n",
            "Enter value of y: 4\n",
            "\n",
            "Before Swapping\n",
            "Value of x: 2 and y: 4\n",
            "\n",
            "After Swapping\n",
            "Value of x: 4 and y: 2\n"
          ]
        }
      ]
    },
    {
      "cell_type": "code",
      "source": [
        "# QUESTION 10\n",
        "\n",
        "x = input(\"Enter value of x: \")\n",
        "y = input(\"Enter value of y: \")\n",
        "\n",
        "print(\"\\nBefore Swapping\")\n",
        "print(\"Value of x:\", x , \"and\" , \"y:\", y)\n",
        "\n",
        "temp = x\n",
        "x = y\n",
        "y = temp\n",
        "\n",
        "\n",
        "print(\"\\nAfter Swapping\")\n",
        "print(\"Value of x:\", x , \"and\" , \"y:\", temp)"
      ],
      "metadata": {
        "colab": {
          "base_uri": "https://localhost:8080/"
        },
        "id": "YflrNspUWxH_",
        "outputId": "9c6c14fa-29de-440e-ac07-e694bfd074d6"
      },
      "execution_count": null,
      "outputs": [
        {
          "output_type": "stream",
          "name": "stdout",
          "text": [
            "Enter value of x: 24\n",
            "Enter value of y: 21\n",
            "\n",
            "Before Swapping\n",
            "Value of x: 24 and y: 21\n",
            "\n",
            "After Swapping\n",
            "Value of x: 21 and y: 24\n"
          ]
        }
      ]
    },
    {
      "cell_type": "code",
      "source": [
        "# QUESTION 11\n",
        "\n",
        "numbers = int(input(\"Enter quantity of numbers: \"))\n",
        "lst = list()\n",
        "\n",
        "\n",
        "for i in range(0, numbers):\n",
        "  elements = int(input())\n",
        "  lst.append(elements)\n",
        "print(\"\\nThe Average of your given numbers are: \",sum(lst) / int(numbers))"
      ],
      "metadata": {
        "colab": {
          "base_uri": "https://localhost:8080/"
        },
        "id": "xxmVDwhNW80K",
        "outputId": "4c3c657f-c692-417f-f06c-b0a54ff6c087"
      },
      "execution_count": null,
      "outputs": [
        {
          "output_type": "stream",
          "name": "stdout",
          "text": [
            "Enter quantity of numbers: 3\n",
            "12\n",
            "13\n",
            "11\n",
            "\n",
            "The Average of your given numbers are:  12.0\n"
          ]
        }
      ]
    },
    {
      "cell_type": "code",
      "source": [
        "# QUESTION 12\n",
        "\n",
        "number = int(input(\"Enter a number: \"))\n",
        "\n",
        "factorial = 1\n",
        "\n",
        "if number < 0:\n",
        "   print(\"Sorry, factorial does not exist for negative numbers\")\n",
        "elif number == 0:\n",
        "   print(\"The factorial of 0 is 1\")\n",
        "else:\n",
        "   for i in range(1,number + 1):\n",
        "       factorial = factorial*i\n",
        "   print(\"The factorial of\",number,\"is\",factorial)"
      ],
      "metadata": {
        "colab": {
          "base_uri": "https://localhost:8080/"
        },
        "id": "bp9s5ELtXEfe",
        "outputId": "e8424c1f-fba8-4dd2-86cf-df9dec91c0d3"
      },
      "execution_count": null,
      "outputs": [
        {
          "output_type": "stream",
          "name": "stdout",
          "text": [
            "Enter a number: 24\n",
            "The factorial of 24 is 620448401733239439360000\n"
          ]
        }
      ]
    },
    {
      "cell_type": "code",
      "source": [
        "# QUESTION 13\n",
        "\n",
        "number = int(input(\"Enter a number: \"))\n",
        "\n",
        "factorial = 1\n",
        "\n",
        "if number < 0:\n",
        "   print(\"Sorry, factorial does not exist for negative numbers\")\n",
        "elif number == 0:\n",
        "   print(\"The factorial of 0 is 1\")\n",
        "else:\n",
        "   for i in range(1,number + 1):\n",
        "       factorial = factorial*i\n",
        "   print(\"The factorial of\",number,\"is\",factorial)"
      ],
      "metadata": {
        "id": "RFnLO5ztXRNr"
      },
      "execution_count": null,
      "outputs": []
    },
    {
      "cell_type": "code",
      "source": [
        "# QUESTION 14\n",
        "\n",
        "user_input = int(input(\"Enter a number to check even or odd: \"))\n",
        "\n",
        "if(user_input %2 == 0):\n",
        "  print(user_input, \"is a even number.\")\n",
        "\n",
        "elif(user_input %2 != 0):\n",
        "  print(user_input, \"is a odd number.\")\n",
        "else:\n",
        "  print(\"Please, Enter Correct Value.\")"
      ],
      "metadata": {
        "id": "fBkkuIT2XYIO"
      },
      "execution_count": null,
      "outputs": []
    },
    {
      "cell_type": "code",
      "source": [
        "# QUESTION 15\n",
        "\n",
        "\n",
        "numr=int(input(\"Enter range of prime numbers: \"))\n",
        "\n",
        "print(\"Prime numbers:\",end=' ')\n",
        "\n",
        "for n in range(1,numr):\n",
        "    for i in range(2,n):\n",
        "        if(n%i==0):\n",
        "            break\n",
        "    else:\n",
        "        print(n,end=' ')"
      ],
      "metadata": {
        "colab": {
          "base_uri": "https://localhost:8080/"
        },
        "id": "2TJH4f-CXcbS",
        "outputId": "902cb47c-4606-4f82-89ca-38648fce537f"
      },
      "execution_count": null,
      "outputs": [
        {
          "output_type": "stream",
          "name": "stdout",
          "text": [
            "Enter range of prime numbers: 4\n",
            "Prime numbers: 1 2 3 "
          ]
        }
      ]
    },
    {
      "cell_type": "code",
      "source": [
        "# QUESTION 16\n",
        "\n",
        "lower_value = int(input (\"Please, Enter the Lowest Range Value: \"))  \n",
        "upper_value = int(input (\"Please, Enter the Upper Range Value: \"))  \n",
        "  \n",
        "print (\"The Prime Numbers in the range are: \") \n",
        "for number in range (lower_value, upper_value + 1):  \n",
        "    if number > 1:\n",
        "        for i in range (2, number):  \n",
        "            if (number % i) == 0:  \n",
        "                break  \n",
        "        else:  \n",
        "            print (number)"
      ],
      "metadata": {
        "colab": {
          "base_uri": "https://localhost:8080/"
        },
        "id": "DjSBvLoDXmvc",
        "outputId": "3e36a35c-f081-48f6-db9a-5c4fc31f380d"
      },
      "execution_count": null,
      "outputs": [
        {
          "output_type": "stream",
          "name": "stdout",
          "text": [
            "Please, Enter the Lowest Range Value: 3\n",
            "Please, Enter the Upper Range Value: 5\n",
            "The Prime Numbers in the range are: \n",
            "3\n",
            "5\n"
          ]
        }
      ]
    },
    {
      "cell_type": "code",
      "source": [
        "# QUESTION 17\n",
        "\n",
        "fn = int(input(\"Enter any number: \"))\n",
        "mn = int(input(\"Enter any number: \"))\n",
        "ln = int(input(\"Enter any number: \"))\n",
        "\n",
        "if fn < mn and fn < ln:\n",
        "  print(fn, \"is smallest among\", mn ,\"and\",ln) \n",
        "\n",
        "if mn < fn and mn < ln:\n",
        "  print(mn, \"is smallest among\", fn ,\"and\",ln) \n",
        "  \n",
        "if ln < mn and ln < fn:\n",
        "  print(ln, \"is smallest among\", fn ,\"and\",mn)"
      ],
      "metadata": {
        "colab": {
          "base_uri": "https://localhost:8080/"
        },
        "id": "AmtA7EtUX2N-",
        "outputId": "7bb8c95b-1302-4c84-988b-28c62734d245"
      },
      "execution_count": null,
      "outputs": [
        {
          "output_type": "stream",
          "name": "stdout",
          "text": [
            "Enter any number: 2\n",
            "Enter any number: 4\n",
            "Enter any number: 24\n",
            "2 is smallest among 4 and 24\n"
          ]
        }
      ]
    },
    {
      "cell_type": "code",
      "source": [
        "# QUESTION 18\n",
        "\n",
        "import math\n",
        "\n",
        "base = int(input(\"Enter the value for base: \"))\n",
        "exponent = int(input(\"Enter the value for exponent: \"))\n",
        "print(base ,\"to power\" , exponent , \"is\" ,pow(base,exponent))"
      ],
      "metadata": {
        "colab": {
          "base_uri": "https://localhost:8080/"
        },
        "id": "4vTtcS8JX90o",
        "outputId": "9d9e296c-18ed-4335-fe39-e7216a57d76b"
      },
      "execution_count": null,
      "outputs": [
        {
          "output_type": "stream",
          "name": "stdout",
          "text": [
            "Enter the value for base: 4\n",
            "Enter the value for exponent: 2\n",
            "4 to power 2 is 16\n"
          ]
        }
      ]
    },
    {
      "cell_type": "code",
      "source": [
        "# QUESTION 19\n",
        "\n",
        "import math \n",
        "\n",
        "number = int(input(\"Enter the value for base: \"))\n",
        "\n",
        "print(\"Square to\" , number , \"is\" , pow(number,2))"
      ],
      "metadata": {
        "colab": {
          "base_uri": "https://localhost:8080/"
        },
        "id": "sv-13PM2YEgO",
        "outputId": "3a85fa00-cb2a-43fa-c7a9-3a65b130e61f"
      },
      "execution_count": null,
      "outputs": [
        {
          "output_type": "stream",
          "name": "stdout",
          "text": [
            "Enter the value for base: 5\n",
            "Square to 5 is 25\n"
          ]
        }
      ]
    },
    {
      "cell_type": "code",
      "source": [
        "# QUESTION 20\n",
        "\n",
        "import math \n",
        "\n",
        "number = int(input(\"Enter the value for base: \"))\n",
        "\n",
        "print(\"Cube to\" , number , \"is\" , pow(number,3))"
      ],
      "metadata": {
        "colab": {
          "base_uri": "https://localhost:8080/"
        },
        "id": "mt5gF729YNY0",
        "outputId": "170bd437-19df-4fb7-8735-761c059f7cee"
      },
      "execution_count": null,
      "outputs": [
        {
          "output_type": "stream",
          "name": "stdout",
          "text": [
            "Enter the value for base: 4\n",
            "Cube to 4 is 64\n"
          ]
        }
      ]
    },
    {
      "cell_type": "code",
      "source": [
        "# QUESTION 21\n",
        "\n",
        "import math \n",
        "\n",
        "number = int(input(\"Enter the value for base: \"))\n",
        "\n",
        "print(\"Square root to\" , number , \"is\" , int(math.sqrt(number)))"
      ],
      "metadata": {
        "colab": {
          "base_uri": "https://localhost:8080/"
        },
        "id": "Z459BVkJYX4A",
        "outputId": "0b122eec-b649-4b04-a143-305e9b433f42"
      },
      "execution_count": null,
      "outputs": [
        {
          "output_type": "stream",
          "name": "stdout",
          "text": [
            "Enter the value for base: 4\n",
            "Square root to 4 is 2\n"
          ]
        }
      ]
    },
    {
      "cell_type": "code",
      "source": [
        "# QUESTION 22\n",
        "\n",
        "def decimalToBinary(n):\n",
        "    return bin(n).replace(\"0b\", \"\")\n",
        "\n",
        "number = int(input(\"Enter decimal number: \"))\n",
        "\n",
        "print(\"Binary to\", number , \"is\", decimalToBinary(number))"
      ],
      "metadata": {
        "colab": {
          "base_uri": "https://localhost:8080/"
        },
        "id": "edVFmnzXYbsG",
        "outputId": "afdf3b31-fc37-47d0-b2ef-ba46f89f476d"
      },
      "execution_count": null,
      "outputs": [
        {
          "output_type": "stream",
          "name": "stdout",
          "text": [
            "Enter decimal number: 10\n",
            "Binary to 10 is 1010\n"
          ]
        }
      ]
    },
    {
      "cell_type": "code",
      "source": [
        "# QUESTION 23\n",
        "\n",
        "number = int(input(\"Enter decimal number: \"))\n",
        "\n",
        "print(\"Octal to\", number , \"is\", oct(number))"
      ],
      "metadata": {
        "colab": {
          "base_uri": "https://localhost:8080/"
        },
        "id": "P2x5r8D_YqW-",
        "outputId": "68e6501c-497e-4bd0-c6ed-7f16740d911a"
      },
      "execution_count": null,
      "outputs": [
        {
          "output_type": "stream",
          "name": "stdout",
          "text": [
            "Enter decimal number: 10\n",
            "Octal to 10 is 0o12\n"
          ]
        }
      ]
    },
    {
      "cell_type": "code",
      "source": [
        "# QUESTION 24\n",
        "\n",
        "year = int(input(\"Enter a year: \"))\n",
        "\n",
        "if((year % 400 == 0) or (year % 100 != 0) and  (year % 4 == 0)):   \n",
        "    print(\"Year\", year ,\"is a leap Year\");  \n",
        "  # Else it is not a leap year  \n",
        "else:  \n",
        "    print (\"Year\", year ,\"is not a leap Year\")"
      ],
      "metadata": {
        "colab": {
          "base_uri": "https://localhost:8080/"
        },
        "id": "JsM-nEYuYyiq",
        "outputId": "86a72fed-c370-42a8-977e-db21343332bb"
      },
      "execution_count": null,
      "outputs": [
        {
          "output_type": "stream",
          "name": "stdout",
          "text": [
            "Enter a year: 2016\n",
            "Year 2016 is a leap Year\n"
          ]
        }
      ]
    },
    {
      "cell_type": "code",
      "source": [
        "# QUESTION 25\n",
        "\n",
        "temp = float(input(\"Enter temperature value in celcius: \"))\n",
        "\n",
        "fahrenheit = (temp * 1.8) + 32\n",
        "\n",
        "print(temp, \"celcius is equivalent to\", fahrenheit, \"fahrenheit.\")"
      ],
      "metadata": {
        "colab": {
          "base_uri": "https://localhost:8080/"
        },
        "id": "UOFy-wsoY_ap",
        "outputId": "2176ed51-0c7f-40c6-cb21-cf2d835c34e3"
      },
      "execution_count": null,
      "outputs": [
        {
          "output_type": "stream",
          "name": "stdout",
          "text": [
            "Enter temperature value in celcius: 38\n",
            "38.0 celcius is equivalent to 100.4 fahrenheit.\n"
          ]
        }
      ]
    },
    {
      "cell_type": "code",
      "source": [
        "# QUESTION 26\n",
        "\n",
        "temp = float(input(\"Enter temperature value in fahrenheit: \"))\n",
        "\n",
        "celsius = (temp - 32) * 5/9\n",
        "\n",
        "print(temp, \"fahrenheit is equivalent to\", celsius, \"celsius.\")"
      ],
      "metadata": {
        "colab": {
          "base_uri": "https://localhost:8080/"
        },
        "id": "_dUcMqtKZMLy",
        "outputId": "3feccdda-9e1a-45e3-a4c0-59e3045fca65"
      },
      "execution_count": null,
      "outputs": [
        {
          "output_type": "stream",
          "name": "stdout",
          "text": [
            "Enter temperature value in fahrenheit: 100\n",
            "100.0 fahrenheit is equivalent to 37.77777777777778 celsius.\n"
          ]
        }
      ]
    }
  ]
}